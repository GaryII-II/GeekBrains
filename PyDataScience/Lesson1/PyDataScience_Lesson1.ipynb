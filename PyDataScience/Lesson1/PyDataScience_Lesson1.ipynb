{
 "cells": [
  {
   "cell_type": "code",
   "execution_count": 6,
   "id": "5659e390",
   "metadata": {},
   "outputs": [
    {
     "name": "stdout",
     "output_type": "stream",
     "text": [
      "[2.  8.4]\n"
     ]
    }
   ],
   "source": [
    "import numpy as np\n",
    "\n",
    "## NumPy Task 1\n",
    "a = np.array([[1, 6], [2, 8], [3, 11], [3, 10], [1, 7]])\n",
    "\n",
    "mean_a = a.mean(axis=0)\n",
    "\n",
    "print (mean_a)"
   ]
  },
  {
   "cell_type": "code",
   "execution_count": 7,
   "id": "8c250ac9",
   "metadata": {},
   "outputs": [
    {
     "name": "stdout",
     "output_type": "stream",
     "text": [
      "[[-1.  -2.4]\n",
      " [ 0.  -0.4]\n",
      " [ 1.   2.6]\n",
      " [ 1.   1.6]\n",
      " [-1.  -1.4]]\n"
     ]
    }
   ],
   "source": [
    "## NumPy Task 2\n",
    "\n",
    "a_centered = a - mean_a\n",
    "\n",
    "print (a_centered)"
   ]
  },
  {
   "cell_type": "code",
   "execution_count": 15,
   "id": "37fdc4b8",
   "metadata": {},
   "outputs": [
    {
     "name": "stdout",
     "output_type": "stream",
     "text": [
      "8.0\n",
      "2.0\n"
     ]
    }
   ],
   "source": [
    "## NumPy Task 3\n",
    "\n",
    "a_centered_sp = np.dot(a_centered[:,0], a_centered[:,1])\n",
    "\n",
    "print (a_centered_sp)\n",
    "\n",
    "print (a_centered_sp / (a_centered[:,0].size - 1))"
   ]
  },
  {
   "cell_type": "code",
   "execution_count": 16,
   "id": "9f5ced7f",
   "metadata": {},
   "outputs": [
    {
     "name": "stdout",
     "output_type": "stream",
     "text": [
      "Stub\n"
     ]
    }
   ],
   "source": [
    "## NumPy Task 4\n",
    "print ('Stub')\n"
   ]
  },
  {
   "cell_type": "code",
   "execution_count": 3,
   "id": "c2724327",
   "metadata": {},
   "outputs": [],
   "source": [
    "## Pandas Task 1\n",
    "\n",
    "import pandas as pd\n",
    "\n",
    "authors = pd.DataFrame({\n",
    "    \"author_id\" : [1, 2, 3],\n",
    "    \"author_name\" : ['Тургенев', 'Чехов', 'Островский']\n",
    "})\n",
    "\n",
    "books = pd.DataFrame ({\n",
    "    \"author_id\" : [1, 1, 1, 2, 2, 3, 3],\n",
    "    \"book_title\" : ['Отцы и дети', 'Рудин', 'Дворянское гнездо', 'Толстый и тонкий', 'Дама с собачкой', 'Гроза', 'Таланты и поклонники'], \n",
    "    \"price\" : [450, 300, 350, 500, 450, 370, 290]\n",
    "})\n"
   ]
  },
  {
   "cell_type": "code",
   "execution_count": 4,
   "id": "499dc5dd",
   "metadata": {},
   "outputs": [
    {
     "name": "stdout",
     "output_type": "stream",
     "text": [
      "   author_id author_name            book_title  price\n",
      "0          1    Тургенев           Отцы и дети    450\n",
      "1          1    Тургенев                 Рудин    300\n",
      "2          1    Тургенев     Дворянское гнездо    350\n",
      "3          2       Чехов      Толстый и тонкий    500\n",
      "4          2       Чехов       Дама с собачкой    450\n",
      "5          3  Островский                 Гроза    370\n",
      "6          3  Островский  Таланты и поклонники    290\n"
     ]
    }
   ],
   "source": [
    "## Pandas Task 2\n",
    "\n",
    "authors_price = pd.merge(authors, books, on='author_id', how='inner')\n",
    "\n",
    "print (authors_price)"
   ]
  },
  {
   "cell_type": "code",
   "execution_count": 1,
   "id": "d86211cd",
   "metadata": {},
   "outputs": [],
   "source": [
    "## Pandas Task 3"
   ]
  },
  {
   "cell_type": "code",
   "execution_count": 7,
   "id": "ca25caca",
   "metadata": {},
   "outputs": [
    {
     "name": "stdout",
     "output_type": "stream",
     "text": [
      "   author_id author_name         book_title  price\n",
      "3          2       Чехов   Толстый и тонкий    500\n",
      "0          1    Тургенев        Отцы и дети    450\n",
      "4          2       Чехов    Дама с собачкой    450\n",
      "5          3  Островский              Гроза    370\n",
      "2          1    Тургенев  Дворянское гнездо    350\n"
     ]
    }
   ],
   "source": [
    "top5 = authors_price.sort_values('price', ascending=False).head(5)\n",
    "\n",
    "print (top5)"
   ]
  },
  {
   "cell_type": "code",
   "execution_count": 43,
   "id": "2168169f",
   "metadata": {},
   "outputs": [
    {
     "name": "stdout",
     "output_type": "stream",
     "text": [
      "                price                      \n",
      "            min_price max_price  mean_price\n",
      "author_name                                \n",
      "Островский        290       370  330.000000\n",
      "Тургенев          300       450  366.666667\n",
      "Чехов             450       500  475.000000\n"
     ]
    }
   ],
   "source": [
    "## Pandas Task 4\n",
    "## author_name, min_price, max_price и mean_price,\n",
    "\n",
    "ap_g = authors_price.groupby(\"author_name\")\n",
    "\n",
    "authors_stat = ap_g.agg({\"price\": ['min', 'max', 'mean']})\n",
    "authors_stat.rename(columns={'author_name': 'author_name', 'min': 'min_price', 'max': 'max_price', 'mean': 'mean_price'}, inplace=True)\n",
    "print (authors_stat)"
   ]
  },
  {
   "cell_type": "code",
   "execution_count": null,
   "id": "761f6549",
   "metadata": {},
   "outputs": [],
   "source": []
  }
 ],
 "metadata": {
  "kernelspec": {
   "display_name": "Python 3",
   "language": "python",
   "name": "python3"
  },
  "language_info": {
   "codemirror_mode": {
    "name": "ipython",
    "version": 3
   },
   "file_extension": ".py",
   "mimetype": "text/x-python",
   "name": "python",
   "nbconvert_exporter": "python",
   "pygments_lexer": "ipython3",
   "version": "3.8.8"
  }
 },
 "nbformat": 4,
 "nbformat_minor": 5
}
