{
 "cells": [
  {
   "cell_type": "code",
   "execution_count": 10,
   "id": "fe0d8176",
   "metadata": {},
   "outputs": [],
   "source": [
    "import numpy as np\n",
    "import pandas as pd\n",
    "\n",
    "from sklearn.datasets import load_boston\n",
    "boston = load_boston()\n",
    "target = boston.target\n",
    "feature_names = boston.feature_names\n"
   ]
  },
  {
   "cell_type": "code",
   "execution_count": 29,
   "id": "222ceaed",
   "metadata": {},
   "outputs": [
    {
     "data": {
      "text/plain": [
       "0.7112260057484929"
      ]
     },
     "execution_count": 29,
     "metadata": {},
     "output_type": "execute_result"
    }
   ],
   "source": [
    "# Task1. Loading data. Creating datasets (train, test). Predict with Linear regression\n",
    "\n",
    "X = pd.DataFrame(data, columns = feature_names)\n",
    "X.head()\n",
    "\n",
    "Y = pd.DataFrame(target, columns = ['price'])\n",
    "Y.head()\n",
    "\n",
    "from sklearn.model_selection import train_test_split\n",
    "X_train, X_test, Y_train, Y_test = train_test_split(X, Y, test_size = 0.3, random_state = 42)\n",
    "\n",
    "# Linear Regression\n",
    "from sklearn.linear_model import LinearRegression\n",
    "lr = LinearRegression()\n",
    "lr.fit(X_train, Y_train)\n",
    "\n",
    "Y_pred = lr.predict(X_test)\n",
    "\n",
    "check_test = pd.DataFrame({'Y_test' : Y_test['price'],\n",
    "                         'Y_pred' : Y_pred.flatten()},\n",
    "                         columns = ['Y_test', 'Y_pred'])\n",
    "check_test.head(20)\n",
    "\n",
    "from sklearn.metrics import r2_score\n",
    "r2_score(Y_test, Y_pred)\n"
   ]
  },
  {
   "cell_type": "code",
   "execution_count": 30,
   "id": "38f23126",
   "metadata": {},
   "outputs": [
    {
     "data": {
      "text/plain": [
       "0.87472606157312"
      ]
     },
     "execution_count": 30,
     "metadata": {},
     "output_type": "execute_result"
    }
   ],
   "source": [
    "# Task2. Predict with RandomForestRegressor \n",
    "from sklearn.ensemble import RandomForestRegressor\n",
    "model = RandomForestRegressor(n_estimators=1000, max_depth = 12, random_state = 42)\n",
    "model.fit(X_train, Y_train.values[:, 0])\n",
    "\n",
    "Y_pred = model.predict(X_test)\n",
    "\n",
    "check_test1 = pd.DataFrame({'Y_test' : Y_test['price'],\n",
    "                         'Y_pred' : Y_pred.flatten()},\n",
    "                         columns = ['Y_test', 'Y_pred'])\n",
    "check_test1.head(20)\n",
    "check_test1\n",
    "\n",
    "r2_score(Y_test, Y_pred)\n",
    "\n",
    "# Model RandomForestRegressor showed better results since r2_score metrics is closer to 1."
   ]
  },
  {
   "cell_type": "code",
   "execution_count": 63,
   "id": "9eaa543d",
   "metadata": {},
   "outputs": [
    {
     "data": {
      "text/plain": [
       "array([['LSTAT', '0.4158473181914483'],\n",
       "       ['RM', '0.4026817857034993']], dtype='<U32')"
      ]
     },
     "execution_count": 63,
     "metadata": {},
     "output_type": "execute_result"
    }
   ],
   "source": [
    "# Task3. Features importances: sum and max 2\n",
    "features_imp = model.feature_importances_\n",
    "\n",
    "sum(features_imp)\n",
    "tmp = np.column_stack((feature_names, features_imp))\n",
    "sorted_features = tmp[tmp[:,1].argsort()[::-1]]\n",
    "sorted_features[:2] # Max important 2 features "
   ]
  },
  {
   "cell_type": "code",
   "execution_count": null,
   "id": "353d4394",
   "metadata": {},
   "outputs": [],
   "source": []
  }
 ],
 "metadata": {
  "kernelspec": {
   "display_name": "Python 3",
   "language": "python",
   "name": "python3"
  },
  "language_info": {
   "codemirror_mode": {
    "name": "ipython",
    "version": 3
   },
   "file_extension": ".py",
   "mimetype": "text/x-python",
   "name": "python",
   "nbconvert_exporter": "python",
   "pygments_lexer": "ipython3",
   "version": "3.8.8"
  }
 },
 "nbformat": 4,
 "nbformat_minor": 5
}
