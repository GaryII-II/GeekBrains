{
 "cells": [
  {
   "cell_type": "code",
   "execution_count": 21,
   "id": "1e062e0a",
   "metadata": {},
   "outputs": [
    {
     "name": "stdout",
     "output_type": "stream",
     "text": [
      "0: My = 0,\tMath = 0.0\n",
      "1: My = 0.841468253968254,\tMath = 0.8414709848078965\n",
      "2: My = 0.909347442680776,\tMath = 0.9092974268256817\n",
      "3: My = 0.14113062718531458,\tMath = 0.1411200080598672\n",
      "4: My = -0.7568486195364494,\tMath = -0.7568024953079282\n",
      "5: My = -0.9589331651965991,\tMath = -0.9589242746631385\n",
      "6: My = -0.27938669299362134,\tMath = -0.27941549819892586\n",
      "7: My = 0.6569058296735094,\tMath = 0.6569865987187891\n",
      "8: My = 0.989341880446919,\tMath = 0.9893582466233818\n",
      "9: My = 0.41216155226615847,\tMath = 0.4121184852417566\n",
      "10: My = -0.5440121136495011,\tMath = -0.5440211108893698\n",
      "11: My = -1.0000130343035951,\tMath = -0.9999902065507035\n",
      "12: My = -0.5365177526734198,\tMath = -0.5365729180004349\n",
      "13: My = 0.4201791320900638,\tMath = 0.4201670368266409\n",
      "14: My = 0.9905785144501548,\tMath = 0.9906073556948704\n",
      "15: My = 0.6503544719554607,\tMath = 0.6502878401571168\n",
      "16: My = -0.2878881577219997,\tMath = -0.2879033166650653\n",
      "17: My = -0.9614323498749457,\tMath = -0.9613974918795568\n",
      "18: My = -0.7509088921740699,\tMath = -0.7509872467716762\n",
      "19: My = 0.14989554814855038,\tMath = 0.14987720966295234\n",
      "20: My = 0.912904066419055,\tMath = 0.9129452507276277\n",
      "21: My = 0.8366459398667158,\tMath = 0.8366556385360561\n",
      "22: My = -0.008829586660386786,\tMath = -0.008851309290403876\n",
      "23: My = -0.8462684326630232,\tMath = -0.8462204041751706\n",
      "24: My = -0.905589904178771,\tMath = -0.9055783620066238\n",
      "25: My = -0.13232579211592405,\tMath = -0.13235175009777303\n",
      "26: My = 0.7625034401716557,\tMath = 0.7625584504796027\n",
      "27: My = 0.9563656747732809,\tMath = 0.956375928404503\n",
      "28: My = 0.2709349321659315,\tMath = 0.27090578830786904\n",
      "29: My = -0.6637022477792697,\tMath = -0.6636338842129675\n"
     ]
    }
   ],
   "source": [
    "# lesson 5. Task 9. http://localhost:8888/notebooks/MatAn_Lesson_5.ipynb\n",
    "#           Write Python function to calculate sin(x) for x in 0-30 degrees\n",
    "\n",
    "import math\n",
    "\n",
    "# Use Taylor Series https://en.wikipedia.org/wiki/Taylor_series\n",
    "def mysin(x, eps):\n",
    "    n=1;\n",
    "    an=x;\n",
    "    sum=0;\n",
    "    while math.fabs(an) > eps:\n",
    "         sum = sum + an\n",
    "         n = n+1\n",
    "         an = an * (-x*x/(2.0*n-1.0)/(2.0*n-2.0))\n",
    "    return sum\n",
    "\n",
    "for i in range(0,30):\n",
    "    a = mysin(i, 0.0001)\n",
    "    b = math.sin(i)\n",
    "    print(f'{i}: My = {a},\\tMath = {b}')"
   ]
  },
  {
   "cell_type": "code",
   "execution_count": null,
   "id": "daadb116",
   "metadata": {},
   "outputs": [],
   "source": []
  }
 ],
 "metadata": {
  "kernelspec": {
   "display_name": "Python 3",
   "language": "python",
   "name": "python3"
  },
  "language_info": {
   "codemirror_mode": {
    "name": "ipython",
    "version": 3
   },
   "file_extension": ".py",
   "mimetype": "text/x-python",
   "name": "python",
   "nbconvert_exporter": "python",
   "pygments_lexer": "ipython3",
   "version": "3.8.8"
  }
 },
 "nbformat": 4,
 "nbformat_minor": 5
}
