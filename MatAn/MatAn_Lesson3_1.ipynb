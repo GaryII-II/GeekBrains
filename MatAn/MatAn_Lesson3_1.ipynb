{
 "cells": [
  {
   "cell_type": "code",
   "execution_count": 9,
   "id": "6eeefb46",
   "metadata": {},
   "outputs": [
    {
     "name": "stdout",
     "output_type": "stream",
     "text": [
      "==> Function = <function prog_a at 0x0000011CFBFD8B80>\n",
      " Limit value: -4.499999998764978\n",
      "  Error: 9.947598300641403e-14\n",
      "  By 24643 steps\n",
      "==> Function = <function prog_b at 0x0000011CFBFD8C10>\n",
      " Limit value: -1.3333289256846725\n",
      "  Error: 9.992007221626409e-14\n",
      "  By 44014349 steps\n",
      "==> Function = <function prog_c at 0x0000011CFBFD8AF0> - Error during the calculation\n",
      "==> Function = <function prog_d at 0x0000011CFBFD8700>\n",
      " Limit value: 3.807246685028076e-06\n",
      "  Error: 0.0\n",
      "  By 131329 steps\n",
      "==> Function = <function prog_e at 0x0000011CFBFD8EE0>\n",
      " Limit value: 0.1020408163265048\n",
      "  Error: 7.098488463697095e-14\n",
      "  By 49 steps\n"
     ]
    }
   ],
   "source": [
    "# Math Analysis. Lesson3. Homework https://gb.ru/lessons/214985/homework\n",
    "# Task 1. Find a limit of the progression\n",
    "\n",
    "def prog_a(n_value):\n",
    "    return ((23 - 2*n_value**2)*(3*n_value**2 + 17)**2 ) / (4*n_value**6 + n_value - 1)\n",
    "\n",
    "def prog_b(n_value):\n",
    "    return ((97 - 2*n_value)**3) / (2*n_value*(3*n_value**2 + 15) + 8*n_value)\n",
    "\n",
    "def prog_c(n_value):\n",
    "    divider =  ((27 - n_value) * (2*n_value + 19)**2)\n",
    "    # if divider == 0:  # Gives zero division error\n",
    "    #    print(f'Error in n = {n}')\n",
    "    #    return 0\n",
    "    return (2*n_value**3 + 13*n_value*(n_value + 18)) / divider\n",
    "\n",
    "def prog_d(n_value):\n",
    "    return (n_value**2 + 1)**0.5 - n_value \n",
    "    \n",
    "def prog_e(n_value):\n",
    "    return ((-4)**n_value + 5 * 7**n_value) / ((-4)**(n_value-1) + 7**(n_value+2))\n",
    "\n",
    "progs = [prog_a, prog_b, prog_c, prog_d, prog_e]\n",
    "\n",
    "def find_limit(val):\n",
    "    try:\n",
    "        eps = 0.0000000000001\n",
    "        lim = 1\n",
    "\n",
    "        n = 2\n",
    "        a2 = val(1)\n",
    "\n",
    "        while lim > eps:\n",
    "            a1 = a2\n",
    "            a2 = val(n)\n",
    "            lim = abs(a1 - a2)\n",
    "            n += 1\n",
    "        print (f'==> Function = {val}\\n Limit value: {a2}\\n',f' Error: {lim}\\n', f' By {n-1} steps')\n",
    "    except:\n",
    "        print (f'==> Function = {val} - Error during the calculation')\n",
    "\n",
    "    \n",
    "for func in progs:\n",
    "    find_limit(func)\n",
    "    \n",
    "# ==> Function = <function prog_a at 0x0000011CFBFD8B80>\n",
    "#  Limit value: -4.499999998764978\n",
    "#   Error: 9.947598300641403e-14\n",
    "#   By 24643 steps\n",
    "# ==> Function = <function prog_b at 0x0000011CFBFD8C10>\n",
    "# Limit value: -1.3333289256846725\n",
    "#   Error: 9.992007221626409e-14\n",
    "#   By 44014349 steps\n",
    "# ==> Function = <function prog_c at 0x0000011CFBFD8AF0> - Error during the calculation\n",
    "# ==> Function = <function prog_d at 0x0000011CFBFD8700>\n",
    "# Limit value: 3.807246685028076e-06\n",
    "#   Error: 0.0\n",
    "#   By 131329 steps\n",
    "# ==> Function = <function prog_e at 0x0000011CFBFD8EE0>\n",
    "#  Limit value: 0.1020408163265048\n",
    "#   Error: 7.098488463697095e-14\n",
    "#   By 49 steps"
   ]
  },
  {
   "cell_type": "code",
   "execution_count": null,
   "id": "44a0bf4a",
   "metadata": {},
   "outputs": [],
   "source": [
    "# Task 2. Present 1 as a sum of the common fractions with a numerator = 1\n",
    "1/2 + 1/3 + 1/6 = 1"
   ]
  },
  {
   "cell_type": "code",
   "execution_count": null,
   "id": "a5612c31",
   "metadata": {},
   "outputs": [],
   "source": []
  }
 ],
 "metadata": {
  "kernelspec": {
   "display_name": "Python 3",
   "language": "python",
   "name": "python3"
  },
  "language_info": {
   "codemirror_mode": {
    "name": "ipython",
    "version": 3
   },
   "file_extension": ".py",
   "mimetype": "text/x-python",
   "name": "python",
   "nbconvert_exporter": "python",
   "pygments_lexer": "ipython3",
   "version": "3.8.8"
  }
 },
 "nbformat": 4,
 "nbformat_minor": 5
}
