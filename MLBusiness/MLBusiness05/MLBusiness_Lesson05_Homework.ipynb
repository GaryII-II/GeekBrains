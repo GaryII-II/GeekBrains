{
 "cells": [
  {
   "cell_type": "code",
   "execution_count": 1,
   "id": "b7a2817d",
   "metadata": {},
   "outputs": [],
   "source": [
    "# Lesson 05. Machine Learning in business. Homework (https://gb.ru/lessons/242060/homework)\n",
    "# Boosting, regression, estimation by a churn problem\n"
   ]
  },
  {
   "cell_type": "code",
   "execution_count": null,
   "id": "cd7112a5",
   "metadata": {},
   "outputs": [],
   "source": [
    "# TBD"
   ]
  }
 ],
 "metadata": {
  "kernelspec": {
   "display_name": "Python 3",
   "language": "python",
   "name": "python3"
  },
  "language_info": {
   "codemirror_mode": {
    "name": "ipython",
    "version": 3
   },
   "file_extension": ".py",
   "mimetype": "text/x-python",
   "name": "python",
   "nbconvert_exporter": "python",
   "pygments_lexer": "ipython3",
   "version": "3.8.8"
  }
 },
 "nbformat": 4,
 "nbformat_minor": 5
}
