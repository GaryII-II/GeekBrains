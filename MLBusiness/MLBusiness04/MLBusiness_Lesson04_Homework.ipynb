{
 "cells": [
  {
   "cell_type": "code",
   "execution_count": 1,
   "id": "b7a2817d",
   "metadata": {},
   "outputs": [],
   "source": [
    "# Lesson 04. Machine Learning in business. Homework (https://gb.ru/lessons/242059/homework)\n",
    "# UPLift modelling. Use datasets from https://www.kaggle.com/davinwijaya/customer-retention\n"
   ]
  },
  {
   "cell_type": "code",
   "execution_count": null,
   "id": "cd7112a5",
   "metadata": {},
   "outputs": [],
   "source": [
    "# TBD"
   ]
  }
 ],
 "metadata": {
  "kernelspec": {
   "display_name": "Python 3",
   "language": "python",
   "name": "python3"
  },
  "language_info": {
   "codemirror_mode": {
    "name": "ipython",
    "version": 3
   },
   "file_extension": ".py",
   "mimetype": "text/x-python",
   "name": "python",
   "nbconvert_exporter": "python",
   "pygments_lexer": "ipython3",
   "version": "3.8.8"
  }
 },
 "nbformat": 4,
 "nbformat_minor": 5
}
