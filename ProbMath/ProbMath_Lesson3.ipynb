{
 "cells": [
  {
   "cell_type": "code",
   "execution_count": 10,
   "id": "426351d6",
   "metadata": {},
   "outputs": [],
   "source": [
    "# Probability and math statistics\n",
    "# Lesson 3. Home work https://gb.ru/study_groups/37123/homeworks/203087\n"
   ]
  },
  {
   "cell_type": "code",
   "execution_count": 5,
   "id": "116bee94",
   "metadata": {},
   "outputs": [
    {
     "name": "stdout",
     "output_type": "stream",
     "text": [
      "Mean = 73.14285714285714\n",
      "Unbiased standard deviation = 47.34795213553139\n"
     ]
    }
   ],
   "source": [
    "# Tasks 1. Using only standard Python funcs calculate unbiased standard deviation for the given values range\n",
    "\n",
    "val = [100, 80, 75, 77, 89, 33, 45, 25, 65, 17, 30, 230, 24, 57, 55, 70, 75, 65, 84, 90, 150]\n",
    "\n",
    "mean = float(sum(val)) / max(len(val), 1)\n",
    "print(f'Mean = {mean}') \n",
    "\n",
    "dev = (sum([(item - mean)**2 for item in val]) / (len(val)-1))**0.5\n",
    "print(f'Unbiased standard deviation = {dev}') # 47.34795213553139\n"
   ]
  },
  {
   "cell_type": "code",
   "execution_count": 20,
   "id": "fb66be7f",
   "metadata": {},
   "outputs": [
    {
     "name": "stdout",
     "output_type": "stream",
     "text": [
      "[17, 24, 25, 30, 33, 45, 55, 57, 65, 65, 70, 75, 75, 77, 80, 84, 89, 90, 100, 150, 230]\n",
      "Size = 21\n",
      "Q1 position = 5, Q1 = 45\n",
      "Q3 position = 84, Q3 = 84\n",
      "iqd = 39\n",
      "Number of outliers = 2\n"
     ]
    }
   ],
   "source": [
    "# Task 2. Find number of outliers in the values list above\n",
    "val.sort()\n",
    "print(val)\n",
    "\n",
    "size = len(val)\n",
    "print(f'Size = {size}')\n",
    "\n",
    "q1_pos = int(size*0.25)\n",
    "q1 = val[q1_pos]\n",
    "print(f'Q1 position = {q1_pos}, Q1 = {q1}')\n",
    "\n",
    "q3_pos = int(size*0.75)\n",
    "q3 = val[q3_pos]\n",
    "print(f'Q3 position = {q3}, Q3 = {q3}')\n",
    "\n",
    "iqr = q3  - q1\n",
    "print(f'iqd = {iqr}')\n",
    "\n",
    "values = (q1 - 1.5 * iqr, q3 + 1.5 * iqr)\n",
    "\n",
    "outliers = len( list( filter( lambda item: not (values[0] <= item <= values[1] ), val)))\n",
    "print(f'Number of outliers = {outliers}') # 2\n"
   ]
  },
  {
   "cell_type": "code",
   "execution_count": 26,
   "id": "7ddb84e8",
   "metadata": {},
   "outputs": [
    {
     "name": "stdout",
     "output_type": "stream",
     "text": [
      "PA = 0.425531914893617, PB = 0.3829787234042553, PC = 0.19148936170212766\n",
      "Full probability of PP = 0.676595744680851\n",
      "Probability the student was from faculty A = 0.3773584905660377, B = 0.39622641509433965, C = 0.22641509433962265\n"
     ]
    }
   ],
   "source": [
    "# Task 3. Students of FacultyA = 100, B = 90, C = 45\n",
    "#         Probability to pass exams for A as PA_P = 0.6, B as PB_P = 0.7, C as PC_P = 0.8\n",
    "#         Randomly chosen student passed exams. What is more probable: that student was from A, B or C?\n",
    "       \n",
    "# We have conditional probabilities: PA_P (passed student from A), PB_P (from B), PC_P (from C) depend on PP (student passed exam)\n",
    "# Use Bayes formulas\n",
    "\n",
    "# Students\n",
    "A = 100\n",
    "B = 90\n",
    "C = 45\n",
    "students = A+B+C\n",
    "\n",
    "# Conditional probabilities\n",
    "PA_P = 0.6\n",
    "PB_P = 0.7\n",
    "PC_P = 0.8\n",
    "\n",
    "# Separated probabilities\n",
    "PA = 100 / 235\n",
    "PB = 90 / 235\n",
    "PC = 45 / 235\n",
    "print(f'PA = {PA}, PB = {PB}, PC = {PC}')\n",
    "\n",
    "# Full probability of PP\n",
    "PP = PA_P*PA + PB_P*PB + PC_P*PC\n",
    "print(f'Full probability of PP = {PP}')\n",
    "\n",
    "\n",
    "# Probability to pass exam for stuents from 3 faculties\n",
    "P_A = PA_P * PA / PP\n",
    "P_B = PB_P * PB / PP\n",
    "P_C = PC_P * PC / PP\n",
    "print(f'Probability the student was from faculty A = {P_A}, B = {P_B}, C = {P_C}')\n",
    "# Result: A = 0.3773584905660377, B = 0.39622641509433965, C = 0.22641509433962265"
   ]
  },
  {
   "cell_type": "code",
   "execution_count": null,
   "id": "748a368b",
   "metadata": {},
   "outputs": [],
   "source": []
  }
 ],
 "metadata": {
  "kernelspec": {
   "display_name": "Python 3",
   "language": "python",
   "name": "python3"
  },
  "language_info": {
   "codemirror_mode": {
    "name": "ipython",
    "version": 3
   },
   "file_extension": ".py",
   "mimetype": "text/x-python",
   "name": "python",
   "nbconvert_exporter": "python",
   "pygments_lexer": "ipython3",
   "version": "3.8.8"
  }
 },
 "nbformat": 4,
 "nbformat_minor": 5
}
