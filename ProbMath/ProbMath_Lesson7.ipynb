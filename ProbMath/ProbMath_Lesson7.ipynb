{
 "cells": [
  {
   "cell_type": "code",
   "execution_count": 29,
   "id": "c63fcbc2",
   "metadata": {},
   "outputs": [
    {
     "name": "stdout",
     "output_type": "stream",
     "text": [
      "Max coeff = 0.76342462 for columns [0 2]\n"
     ]
    }
   ],
   "source": [
    "# Probability and math statistics\n",
    "# Lesson 7. Home work https://gb.ru/study_groups/37123/homeworks/203091\n",
    "\n",
    "# Task 1. For given matrix of the Object-Feature X and target variable value Y determine 2 features (from 4) the way\n",
    "#         that the level of a linear dependency of the target variable from the features values was the maximal.\n",
    "#         In other words, a linear regression model on these features should give the best result.\n",
    "#         As an answer, write down the value of the coefficient of determination for the model on these features. \n",
    "\n",
    "import numpy as np\n",
    "import itertools\n",
    "\n",
    "X = np.array([[ 1.22401313,  2.30868478,  3.03636353,  2.69287214],\n",
    "     [-0.18757272,  1.30337355,  5.12093014,  3.46363202],\n",
    "     [-0.81094525,  1.82463398,  5.79686488,  1.86159445],\n",
    "     [ 0.75129018,  2.67392052,  3.65529809,  1.66746094],\n",
    "     [ 0.00972362,  1.97367255,  2.50594319,  1.69755173],\n",
    "     [-0.62972637,  0.77750764,  2.84124027,  4.54410559],\n",
    "     [ 2.29536229,  1.81206697,  1.95026215,  1.51874636],\n",
    "     [ 0.0920418 ,  2.26971361,  7.47708735,  2.61081203],\n",
    "     [ 2.39252799,  3.17563985,  3.61420599,  5.10773362],\n",
    "     [ 0.54983815,  2.87988651,  1.65752765,  1.59635987]])\n",
    "\n",
    "y = np.array([ 9.26193358,  9.700363  ,  8.67214805,  8.74796974,  6.18689108,\n",
    "      7.53312713,  7.57643777, 12.44965478, 14.29010746,  6.68361218])\n",
    "\n",
    "# Coefficient of a determination varies in [0...1] and based on R-square\n",
    "\n",
    "def r2_value(samples: np.ndarray, y_target: np.ndarray):\n",
    "\n",
    "    ones = np.ones((samples.shape[0], 1)) # fill b0 coeff with 1\n",
    "    x2 = np.hstack((ones, samples)) # clue vectors\n",
    "\n",
    "    XTX = x2.T.dot(x2) # XTX matrix generation\n",
    "\n",
    "    # Model coefficients: y = b0 + b1*x1 + b2*x2\n",
    "    XTX_inv = np.linalg.inv(XTX)\n",
    "\n",
    "    b = XTX_inv.dot(x2.T).dot(y_target) # the model coefficients b0, b1, b2 \n",
    "\n",
    "    # print(f'y = {b[0]} + {b[1]}*x1 + {b[2]}*x2') \n",
    "\n",
    "    z2 = x2.dot(b)\n",
    "\n",
    "    return (np.corrcoef(y_target, z2) ** 2)[0,1]\n",
    "\n",
    "combinations = np.array(list(itertools.combinations(range(X.shape[1]),2)))\n",
    "\n",
    "# Find R2 for all combinations of columns\n",
    "# r2_values = [r2_value(X[:, pair], y) for pair in combinations]\n",
    "# max_r2 = max(r2_values)\n",
    "\n",
    "max_r2 = 0\n",
    "best_pair = [0, 0]\n",
    "for pair in combinations:\n",
    "    r2 = r2_value(X[:, pair], y)\n",
    "    if max_r2 < r2:\n",
    "        max_r2 = r2\n",
    "        best_pair = pair\n",
    "\n",
    "print(f'Max coeff = {round(max_r2, 8)} for columns {best_pair}') \n",
    "\n",
    "# ANSWER: 0.76342462 "
   ]
  },
  {
   "cell_type": "code",
   "execution_count": 38,
   "id": "ea9c424c",
   "metadata": {},
   "outputs": [
    {
     "data": {
      "text/plain": [
       "11.294439122922636"
      ]
     },
     "execution_count": 38,
     "metadata": {},
     "output_type": "execute_result"
    },
    {
     "data": {
      "image/png": "[encoded data removed]",
      "text/plain": [
       "<Figure size 432x288 with 1 Axes>"
      ]
     },
     "metadata": {
      "needs_background": "light"
     },
     "output_type": "display_data"
    }
   ],
   "source": [
    "# Task2. Is the regression equation obtained in the previous problem significant? \n",
    "#        For your answer, write 1 if yes, and 0 otherwise. \n",
    "from scipy import stats\n",
    "from matplotlib import pyplot as plt\n",
    "\n",
    "ones = np.ones((X.shape[0], 1)) # fill b0 coeff with 1\n",
    "x_norm = np.hstack((ones, X[:, best_pair])) # clue vectors\n",
    "\n",
    "n = x_norm.shape[0]\n",
    "m = x_norm.shape[1] - 1  # Since added zero factor\n",
    "\n",
    "k1 = m\n",
    "k2 = n - m - 1\n",
    "k1, k2\n",
    "\n",
    "# For significance level alpha = 0.05\n",
    "alpha = 0.05\n",
    "t = stats.f.ppf(1 - alpha, k1, k2)\n",
    "t # 5.192168\n",
    "\n",
    "# Found a critical region is Ωα=(5.19,∞)\n",
    "\n",
    "# Draw the plot\n",
    "ox = np.linspace(0, 7, 500)\n",
    "oy = stats.f.pdf(ox, k1, k2)\n",
    "\n",
    "ox_right = np.linspace(t, 7, 100)\n",
    "oy_right = stats.f.pdf(ox_right, k1, k2)\n",
    "\n",
    "plt.plot(ox, oy)\n",
    "plt.fill_between(ox_right, oy_right, alpha=0.5)\n",
    "\n",
    "# Statistics F - is it within the critical region?\n",
    "F = (max_r2 / k1) / ((1 - max_r2) / k2)\n",
    "F # Value 11.294439122922636 is within the critical region\n",
    "\n",
    "# ANSWER: 1"
   ]
  },
  {
   "cell_type": "code",
   "execution_count": 44,
   "id": "8886c103",
   "metadata": {},
   "outputs": [
    {
     "name": "stdout",
     "output_type": "stream",
     "text": [
      "[1. 1. 1. ... 1. 1. 1.]\n",
      "[1. 0. 1. ... 1. 1. 1.]\n",
      "t-statistics = 1.6504551408398382\n",
      "-1.9608324352746576 1.9608324352746571\n"
     ]
    }
   ],
   "source": [
    "# Task3. To conduct A / B testing of the online store website, the following data was obtained: \n",
    "#          - page `A` was visited 2509 times, 77 of them ended in a purchase,\n",
    "#          - page `B` was visited 1465 times, 60 of them ended in a purchase.\n",
    "#        Is the conversion difference between pages `A` and `B` significant?\n",
    "#        For your answer, write 1 if yes, and 0 otherwise. \n",
    "\n",
    "#        Prompt: implement a two-sample t-test. \n",
    "#        As samples here, you can take sets of labels for making a purchase (0 or 1) by each visitor. \n",
    "\n",
    "An = 2509\n",
    "A_bought = 77\n",
    "Bn = 1465\n",
    "B_bought = 60\n",
    "\n",
    "# Generate samples from 1 / 0 \n",
    "A_values = np.ones(An)\n",
    "A_values[:A_bought] = 0\n",
    "np.random.shuffle(A_values)\n",
    "\n",
    "B_values = np.ones(Bn)\n",
    "B_values[:B_bought] = 0\n",
    "np.random.shuffle(B_values)\n",
    "\n",
    "print(A_values)\n",
    "print(B_values)\n",
    "\n",
    "# Find a standard deviation of the difference between the sample means of the samples A and B - sigma_delta\n",
    "s1 = A_values.std(ddof=1)\n",
    "s2 = B_values.std(ddof=1)\n",
    "sigma_delta = np.sqrt(s1 ** 2 / An + s2 ** 2 / Bn)\n",
    "\n",
    "# Get statistics value (Students distribution)\n",
    "t = (A_values.mean() - B_values.mean()) / sigma_delta\n",
    "print(f't-statistics = {t}') # 1.65\n",
    "\n",
    "# Set the significance level alpha as 0.05\n",
    "# Calculate the quantiles of Student's distribution. Calculate the number of degrees of freedom of this distribution \n",
    "alpha = 0.05\n",
    "\n",
    "df = (s1 ** 2 / An + s2 ** 2 / Bn) ** 2 / \\\n",
    "    ((s1 ** 2 / An) ** 2 / (An - 1) + (s2 ** 2 / Bn) ** 2 / (Bn - 1))\n",
    "\n",
    "# Quantiles are below\n",
    "t1 = stats.t.ppf(alpha/2, df=df)\n",
    "t2 = stats.t.ppf(1-alpha/2, df=df)\n",
    "\n",
    "print(t1, t2) # -1.9608324352746576 1.9608324352746571\n",
    "\n",
    "# Critical region is Ωα=(−∞,−1.96)∪(1.96,∞) but t-value was 1.65\n",
    "\n",
    "# ANSWER: 0 since t (1.65) is at a critical regions and the hypothesis of equality of mathematical expectations is rejected "
   ]
  },
  {
   "cell_type": "code",
   "execution_count": null,
   "id": "b13d6ec8",
   "metadata": {},
   "outputs": [],
   "source": []
  }
 ],
 "metadata": {
  "kernelspec": {
   "display_name": "Python 3",
   "language": "python",
   "name": "python3"
  },
  "language_info": {
   "codemirror_mode": {
    "name": "ipython",
    "version": 3
   },
   "file_extension": ".py",
   "mimetype": "text/x-python",
   "name": "python",
   "nbconvert_exporter": "python",
   "pygments_lexer": "ipython3",
   "version": "3.8.8"
  }
 },
 "nbformat": 4,
 "nbformat_minor": 5
}
