{
 "cells": [
  {
   "cell_type": "code",
   "execution_count": 10,
   "id": "5dffb485",
   "metadata": {},
   "outputs": [],
   "source": [
    "# Probability and math statistics\n",
    "# Lesson 2. Home work https://gb.ru/study_groups/37123/homeworks/203086\n",
    "\n",
    "import numpy as np\n",
    "\n",
    "def combinations(n: int, k: int) -> int:\n",
    "    return np.math.factorial(n) // (np.math.factorial(k) * np.math.factorial(n - k))"
   ]
  },
  {
   "cell_type": "code",
   "execution_count": 14,
   "id": "6351f8e1",
   "metadata": {},
   "outputs": [
    {
     "name": "stdout",
     "output_type": "stream",
     "text": [
      "0.2373046875 - 0.3955078125 - 0.263671875 - 0.087890625 - 0.0146484375 - 0.0009765625\n",
      "CheckSum of probabilities = 1.0\n",
      "Expected value = 1.25\n",
      "Dispersion = 0.9375\n"
     ]
    }
   ],
   "source": [
    "# Tasks 1-2. Control work has 5 tasks with 4 answers every one. 3 answers are right and 1 - wrong\n",
    "#            Random value X - number of right answers by a guessing. Find an expected value and a dispersion of X\n",
    "\n",
    "# That's a binomial distribution since describes a distribution of X (num of events) during N independent experiments\n",
    "# Probability of the right answer is 1\\4\n",
    "# Define a distribution law with a Bernully formulas (having a number of combinations)\n",
    "# We may have right num of answers: x1 = 0, x2 = 1, x3 = 2, x4 = 3, x5 = 4, x6 = 5, \n",
    "n = 5\n",
    "p = 1/4\n",
    "PX0 = combinations(n,0)*((1-p)**5)*(p**0)\n",
    "PX1 = combinations(n,1)*((1-p)**4)*(p**1)\n",
    "PX2 = combinations(n,2)*((1-p)**3)*(p**2)\n",
    "PX3 = combinations(n,3)*((1-p)**2)*(p**3)\n",
    "PX4 = combinations(n,4)*((1-p)**1)*(p**4)\n",
    "PX5 = combinations(n,5)*((1-p)**0)*(p**5)\n",
    "print(f'{PX0} - {PX1} - {PX2} - {PX3} - {PX4} - {PX5}')\n",
    "\n",
    "allPX = PX0+PX1+PX2+PX3+PX4+PX5\n",
    "allPX\n",
    "print(f'CheckSum of probabilities = {allPX}') # 1.0\n",
    "\n",
    "# Expected value MX\n",
    "MX = n * p\n",
    "print(f'Expected value = {MX}') # 1.25\n",
    "\n",
    "DX = n * p * (1 - p)\n",
    "print(f'Dispersion = {DX}') # 0.9375\n"
   ]
  },
  {
   "cell_type": "code",
   "execution_count": 25,
   "id": "d7ecc2bf",
   "metadata": {},
   "outputs": [
    {
     "name": "stdout",
     "output_type": "stream",
     "text": [
      "No more 16 letters with 0.95 probability\n"
     ]
    }
   ],
   "source": [
    "# Task 3. User receives 10 spam letters on average per a day. \n",
    "#         Find N when user receives not more letters to with the probability 0.95\n",
    "\n",
    "# That's a poisson distribution since we see the events stream where the event occurrs on average N times at the timeslot\n",
    "\n",
    "def poisson_proba(k: int, lambda_: float) -> float:\n",
    "  \n",
    "    return (lambda_ ** k) * (np.exp(-lambda_)) / np.math.factorial(k)\n",
    "\n",
    "_lambda = 10\n",
    "\n",
    "for i in range(1,100):\n",
    "    a = sum(poisson_proba(k=j, lambda_=_lambda) for j in range(i))\n",
    "    if round(a, 2) == 0.95:\n",
    "        print(f\"No more {i} letters with 0.95 probability\")\n",
    "        break\n",
    "        \n",
    "# 16 letters"
   ]
  },
  {
   "cell_type": "code",
   "execution_count": null,
   "id": "1ae56874",
   "metadata": {},
   "outputs": [],
   "source": []
  }
 ],
 "metadata": {
  "kernelspec": {
   "display_name": "Python 3",
   "language": "python",
   "name": "python3"
  },
  "language_info": {
   "codemirror_mode": {
    "name": "ipython",
    "version": 3
   },
   "file_extension": ".py",
   "mimetype": "text/x-python",
   "name": "python",
   "nbconvert_exporter": "python",
   "pygments_lexer": "ipython3",
   "version": "3.8.8"
  }
 },
 "nbformat": 4,
 "nbformat_minor": 5
}
