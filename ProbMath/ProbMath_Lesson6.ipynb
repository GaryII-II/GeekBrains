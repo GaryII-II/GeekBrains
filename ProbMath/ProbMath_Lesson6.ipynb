{
 "cells": [
  {
   "cell_type": "code",
   "execution_count": 1,
   "id": "426351d6",
   "metadata": {},
   "outputs": [],
   "source": [
    "# Probability and math statistics\n",
    "# Lesson 6. Home work https://gb.ru/study_groups/37123/homeworks/203090\n"
   ]
  },
  {
   "cell_type": "code",
   "execution_count": 4,
   "id": "116bee94",
   "metadata": {},
   "outputs": [
    {
     "name": "stdout",
     "output_type": "stream",
     "text": [
      "size = 10, zp_mean=101.4, ks_mean=709.9\n",
      "cov_python = 10175.377777777778\n",
      "cov_numpy1 = 10175.37777777778\n",
      "cov_numpy2\n",
      " [[ 3882.93333333 10175.37777778]\n",
      " [10175.37777778 33854.32222222]]\n",
      "corr_bycovdev = 0.9861001023043514\n",
      "corr_bypandas\n",
      "          zp       ks\n",
      "zp  1.00000  0.88749\n",
      "ks  0.88749  1.00000\n"
     ]
    }
   ],
   "source": [
    "# Task 1. Find a covariation\n",
    "import numpy as np\n",
    "import pandas as pd\n",
    "\n",
    "zp = [35, 45, 190, 200, 40, 70, 54, 150, 120, 110]       # Salary of borrowers\n",
    "ks = [401, 574, 874, 919, 459, 739, 653, 902, 746, 832]  # Credit scoring\n",
    "\n",
    "size = len(zp)\n",
    "\n",
    "def get_mean(values):\n",
    "    _mean = float(sum(values)) / max(len(values), 1)\n",
    "    return _mean\n",
    "\n",
    "# Get a covariance by Python\n",
    "zp_mean = get_mean(zp)\n",
    "ks_mean = get_mean(ks)\n",
    "\n",
    "print(f'size = {size}, zp_mean={zp_mean}, ks_mean={ks_mean}')\n",
    "mix = zip(zp, ks)\n",
    "  \n",
    "cov_python = sum([(zp_item-zp_mean)*(ks_item-ks_mean) for zp_item, ks_item in mix]) / (size-1)\n",
    "print(f'cov_python = {cov_python}')\n",
    "\n",
    "# Get a covariance by Numpy\n",
    "zp_np = np.array(zp)\n",
    "ks_np = np.array(ks)\n",
    "\n",
    "Mzp = zp_np.mean() \n",
    "Mks = ks_np.mean()\n",
    "\n",
    "cov_numpy1 = ((zp_np - Mzp) * (ks_np - Mks)).sum() / (zp_np.shape[0] - 1)\n",
    "print(f'cov_numpy1 = {cov_numpy1}')\n",
    "\n",
    "cov_numpy2 = np.cov(zp_np, ks_np, ddof=1)\n",
    "print(f'cov_numpy2\\n {cov_numpy2}')\n",
    "\n",
    "# Get Pearson's correlation coefficient using covariance and standard deviations of two features \n",
    "corr_bycovdev = cov_numpy1 / (zp_np.std() * ks_np.std())\n",
    "print(f'corr_bycovdev = {corr_bycovdev}')\n",
    "\n",
    "# Get Pearson correlation coefficient using functions from numpy and pandas libraries \n",
    "df = pd.DataFrame({'zp':zp_np, 'ks':ks_np})\n",
    "\n",
    "corr_bypandas = df.corr()\n",
    "print(f'corr_bypandas\\n {corr_bypandas}') ##### 0.88749009\n"
   ]
  },
  {
   "cell_type": "code",
   "execution_count": 3,
   "id": "748a368b",
   "metadata": {},
   "outputs": [
    {
     "name": "stdout",
     "output_type": "stream",
     "text": [
      "samples = 10, mean = 118.1, std = 10.54566788359614\n",
      "t1 = -2.2621571627409915, t2 = 2.2621571627409915\n",
      "width = 15.087832696825501\n"
     ]
    }
   ],
   "source": [
    "# Task2.The IQ values of a sample of students were measured, students in local technical universities \n",
    "#       It is known that IQ is normally distributed in the general population.\n",
    "#       Find the confidence interval for the mathematical expectation with a reliability of 0.95. \n",
    "from scipy import stats\n",
    "\n",
    "iqs_list = [131, 125, 115, 122, 131, 115, 107, 99, 125, 111]\n",
    "iqs = np.array(iqs_list)\n",
    "\n",
    "n = len(iqs_list)\n",
    "\n",
    "mean = iqs.mean()\n",
    "std = iqs.std(ddof=1)\n",
    "\n",
    "print(f'samples = {n}, mean = {mean}, std = {std}')\n",
    "\n",
    "p = 0.95\n",
    "alpha = 1 - p\n",
    "\n",
    "t1 = stats.t.ppf(alpha / 2, df=n-1)\n",
    "t2 = stats.t.ppf(1 - alpha / 2, df=n-1)\n",
    "\n",
    "print(f't1 = {t1}, t2 = {t2}')\n",
    "\n",
    "# Interval width\n",
    "width = (mean + t2 * std / np.sqrt(n)) - (mean + t1 * std / np.sqrt(n))\n",
    "\n",
    "print(f'width = {width}')  ### 15.0878327"
   ]
  },
  {
   "cell_type": "code",
   "execution_count": 1,
   "id": "31d30ec3",
   "metadata": {},
   "outputs": [
    {
     "name": "stdout",
     "output_type": "stream",
     "text": [
      "width = 3.7720217587055553\n"
     ]
    }
   ],
   "source": [
    "# Task3. It is known that the height of the players in the national team is normally distributed\n",
    "#        with a population variance of 25 sq.cm. The sample size is 27, the sample mean is 174.2. \n",
    "#        Find the confidence interval for the mathematical expectations with a reliability of 0.95 \n",
    "\n",
    "n = 27\n",
    "mean = 174.2\n",
    "alpha = 0.95\n",
    "D = 25 # Known variance\n",
    "sigma = D ** 0.5\n",
    "\n",
    "Ft = alpha / 2  # 0.475  # Laplas function Ft\n",
    "t = 1.96  # By table from http://edu.tltsu.ru/er/book_view.php?book_id=1cee&page_id=19564\n",
    "\n",
    "delta = t * sigma / (n**0.5)\n",
    "\n",
    "# Interval\n",
    "(mean - delta, mean + delta)\n",
    "\n",
    "width = delta + delta\n",
    "\n",
    "print(f'width = {width}')  ### 3.77202176"
   ]
  },
  {
   "cell_type": "code",
   "execution_count": null,
   "id": "b056f270",
   "metadata": {},
   "outputs": [],
   "source": []
  }
 ],
 "metadata": {
  "kernelspec": {
   "display_name": "Python 3",
   "language": "python",
   "name": "python3"
  },
  "language_info": {
   "codemirror_mode": {
    "name": "ipython",
    "version": 3
   },
   "file_extension": ".py",
   "mimetype": "text/x-python",
   "name": "python",
   "nbconvert_exporter": "python",
   "pygments_lexer": "ipython3",
   "version": "3.8.8"
  }
 },
 "nbformat": 4,
 "nbformat_minor": 5
}
