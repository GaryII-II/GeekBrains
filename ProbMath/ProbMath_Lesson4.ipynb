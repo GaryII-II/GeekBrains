{
 "cells": [
  {
   "cell_type": "code",
   "execution_count": 2,
   "id": "6ebc3576",
   "metadata": {},
   "outputs": [
    {
     "name": "stdout",
     "output_type": "stream",
     "text": [
      "MX = 500.0, DX = 30000.0\n"
     ]
    }
   ],
   "source": [
    "# Probability and math statistics\n",
    "# Continuous random variables. Distribution function and density function. Normal distribution. Central limit theorem\n",
    "# Lesson 3. Home work https://gb.ru/study_groups/37123/homeworks/203088\n",
    "\n",
    "# Task1. A random continuous variable A has a uniform distribution on the interval (200, 800]. Find its mean and variance\n",
    "\n",
    "# For such a case of the values of X on the segment [a, b],\n",
    "# M(X) = (a + b) / 2; D(X) = (b - a)**2 / 12\n",
    "\n",
    "MX = (200 + 800) / 2 # 500\n",
    "DX = (800 - 200)**2 / 12 # 30000\n",
    "print(f'MX = {MX}, DX = {DX}')\n"
   ]
  },
  {
   "cell_type": "code",
   "execution_count": 5,
   "id": "6c5cd86a",
   "metadata": {},
   "outputs": [
    {
     "name": "stdout",
     "output_type": "stream",
     "text": [
      "b = 2.049193338482967\n"
     ]
    }
   ],
   "source": [
    "# Task2. It is known about a random continuous uniformly distributed quantity B that its variance is 0.2.\n",
    "#        Is it possible to find the right limit of B and its mean value knowing that the left limit is 0.5?\n",
    "#        If yes, find her.\n",
    "\n",
    "# D(X) = 0.2; [0.5, b]\n",
    "# D(X) = (b - a)**2 / 12\n",
    "# b = (D(X)*12)**0.5 + a \n",
    "\n",
    "DX = 0.2\n",
    "a = 0.5\n",
    "b = (DX * 12)**0.5 + a   # 2.04919\n",
    "print(f'b = {b}')"
   ]
  },
  {
   "cell_type": "code",
   "execution_count": 8,
   "id": "a98350ba",
   "metadata": {},
   "outputs": [
    {
     "name": "stdout",
     "output_type": "stream",
     "text": [
      "MX = -2, DX = 16, STDX = 4\n"
     ]
    }
   ],
   "source": [
    "# Task3. A continuous random variable X is normally distributed and given by the distribution density\n",
    "#        f(x) = (1 / (4 * sqrt(2*pi))) * (exp(-(x+2)**2) / 32)\n",
    "#        Find: M(X), D(X), std(X) - standard deviation\n",
    "\n",
    "MX = -2\n",
    "STDX = 4\n",
    "DX = STDX**2 # 16\n",
    "print(f'MX = {MX}, DX = {DX}, STDX = {STDX}')"
   ]
  },
  {
   "cell_type": "code",
   "execution_count": 28,
   "id": "342b63dd",
   "metadata": {},
   "outputs": [
    {
     "name": "stdout",
     "output_type": "stream",
     "text": [
      " a= 0.15865525393145707,\n",
      " b= 0.02275013194817921,\n",
      " c= 0.8185946141203637,\n",
      " d= 0.6826894921370859,\n",
      " e= 0.9544997361036416,\n",
      " f= 0.0241000299798093,\n",
      " g= 0.0026997960632601965,\n",
      " h= 0.15865525393145707\n"
     ]
    }
   ],
   "source": [
    "# Task4. The growth of the adult population of city X is normally distributed.\n",
    "#        Moreover, the average height is 174 cm, and the standard deviation is 8 cm.\n",
    "#        What is the probability that a randomly selected adult is:\n",
    "#        a) > 182 cm, b) >190 cm, c) >166 - <190, d) >166 - <182, \n",
    "#        e) >158 - <190, f) <=166 or >=190, g) <=150 or >=198, h) < 166 cm\n",
    "\n",
    "MX = 174\n",
    "STDX = 8\n",
    "# Find the probability of a normal random variable falling into the Lapplas F interval \n",
    "\n",
    "import scipy.stats as stat\n",
    "\n",
    "height_m = stat.norm(loc=MX, scale=STDX)\n",
    "\n",
    "a = 1 - height_m.cdf(182)\n",
    "b = 1 - height_m.cdf(190)\n",
    "c =  height_m.cdf(190) - height_m.cdf(166)\n",
    "d = height_m.cdf(182) - height_m.cdf(166)\n",
    "e = height_m.cdf(190) - height_m.cdf(158)\n",
    "f = height_m.cdf(150) + (1 - height_m.cdf(190))\n",
    "g = height_m.cdf(150) + (1 - height_m.cdf(198))\n",
    "h = height_m.cdf(166)\n",
    "\n",
    "print(f' a= {a},\\n b= {b},\\n c= {c},\\n d= {d},\\n e= {e},\\n f= {f},\\n g= {g},\\n h= {h}')"
   ]
  },
  {
   "cell_type": "code",
   "execution_count": 29,
   "id": "033bc6f6",
   "metadata": {},
   "outputs": [
    {
     "name": "stdout",
     "output_type": "stream",
     "text": [
      "2.4 sigms is required\n"
     ]
    }
   ],
   "source": [
    "# Task5. How many sigmas (standard deviations) does a person's height, equal to 190 cm, deviate from\n",
    "#        the mean of growth in a population in which \n",
    "#        M(X) = 178 cm and D(X) = 25 cm2\n",
    "\n",
    "# Using 3 sigmas rule. Signa = D(X)**0.5. Answer =  int ((190 - 178) / 5)\n",
    "import math\n",
    "a = (190 - 178) / 5\n",
    "print(f'{a} sigms is required')  # 2.4"
   ]
  },
  {
   "cell_type": "code",
   "execution_count": null,
   "id": "cf3fc633",
   "metadata": {},
   "outputs": [],
   "source": []
  }
 ],
 "metadata": {
  "kernelspec": {
   "display_name": "Python 3",
   "language": "python",
   "name": "python3"
  },
  "language_info": {
   "codemirror_mode": {
    "name": "ipython",
    "version": 3
   },
   "file_extension": ".py",
   "mimetype": "text/x-python",
   "name": "python",
   "nbconvert_exporter": "python",
   "pygments_lexer": "ipython3",
   "version": "3.8.8"
  }
 },
 "nbformat": 4,
 "nbformat_minor": 5
}
