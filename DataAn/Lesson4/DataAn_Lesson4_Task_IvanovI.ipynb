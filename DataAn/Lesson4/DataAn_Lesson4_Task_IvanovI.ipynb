{
 "cells": [
  {
   "cell_type": "code",
   "execution_count": null,
   "id": "44d767dd",
   "metadata": {},
   "outputs": [],
   "source": [
    "# Data analysis\n",
    "# Lesson 5 homework (https://gb.ru/lessons/240140/homework)\n",
    "\n",
    "# To be done ASAp. Sorry"
   ]
  }
 ],
 "metadata": {
  "kernelspec": {
   "display_name": "Python 3",
   "language": "python",
   "name": "python3"
  },
  "language_info": {
   "codemirror_mode": {
    "name": "ipython",
    "version": 3
   },
   "file_extension": ".py",
   "mimetype": "text/x-python",
   "name": "python",
   "nbconvert_exporter": "python",
   "pygments_lexer": "ipython3",
   "version": "3.8.8"
  }
 },
 "nbformat": 4,
 "nbformat_minor": 5
}
