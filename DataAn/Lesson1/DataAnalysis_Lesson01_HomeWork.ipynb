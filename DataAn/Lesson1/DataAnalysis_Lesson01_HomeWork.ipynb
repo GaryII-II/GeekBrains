{
 "cells": [
  {
   "cell_type": "code",
   "execution_count": null,
   "id": "51a9f873",
   "metadata": {},
   "outputs": [],
   "source": [
    "# Data Analysis. Lesson 01 Task (https://gb.ru/lessons/240137/homework). Linear regression.  \n",
    "# Optimizatoin by a gradient decent for x^2(np.sin(0,5_x)^2+1)\n",
    "\n",
    "# TBD in 1-2 days"
   ]
  }
 ],
 "metadata": {
  "kernelspec": {
   "display_name": "Python 3",
   "language": "python",
   "name": "python3"
  },
  "language_info": {
   "codemirror_mode": {
    "name": "ipython",
    "version": 3
   },
   "file_extension": ".py",
   "mimetype": "text/x-python",
   "name": "python",
   "nbconvert_exporter": "python",
   "pygments_lexer": "ipython3",
   "version": "3.8.8"
  }
 },
 "nbformat": 4,
 "nbformat_minor": 5
}
