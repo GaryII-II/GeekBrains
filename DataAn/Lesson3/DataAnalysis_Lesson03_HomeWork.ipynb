{
 "cells": [
  {
   "cell_type": "code",
   "execution_count": 2,
   "id": "2f5ad740",
   "metadata": {},
   "outputs": [],
   "source": [
    "# Data Analysis. Lesson 03 Task (https://gb.ru/lessons/240139/homework).\n",
    "\n",
    "# Determine the AUC_ROC and AUC_PR for the test sample logistic regression model. \n",
    "# Use the class implementation of the model and the confusion function \n",
    "#   to calculate TPR, FPR, precision, recal for various probability thresholds.\n",
    "# Optional (optional): Get the same performance for linear regression and compare the two models.\n",
    "\n",
    "# TBD in 2-3 days"
   ]
  },
  {
   "cell_type": "code",
   "execution_count": null,
   "id": "e6f97816",
   "metadata": {},
   "outputs": [],
   "source": []
  }
 ],
 "metadata": {
  "kernelspec": {
   "display_name": "Python 3",
   "language": "python",
   "name": "python3"
  },
  "language_info": {
   "codemirror_mode": {
    "name": "ipython",
    "version": 3
   },
   "file_extension": ".py",
   "mimetype": "text/x-python",
   "name": "python",
   "nbconvert_exporter": "python",
   "pygments_lexer": "ipython3",
   "version": "3.8.8"
  }
 },
 "nbformat": 4,
 "nbformat_minor": 5
}
