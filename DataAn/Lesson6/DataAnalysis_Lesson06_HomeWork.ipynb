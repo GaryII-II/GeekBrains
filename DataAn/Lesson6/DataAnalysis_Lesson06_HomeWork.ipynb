{
 "cells": [
  {
   "cell_type": "code",
   "execution_count": 2,
   "id": "51a9f873",
   "metadata": {},
   "outputs": [],
   "source": [
    "# Data Analysis. Lesson 06 Task (https://gb.ru/lessons/240142/homework). Gradient boosting (Ada boost)\n",
    "# MAIN TASK\n",
    "# Implement adaptive boosting using Logistic Regression and LogLoss error measure. \n",
    "# Compare with adaptive boosting accuracy on decision trees. \n",
    "# To collect predictions, you can use the same predict function as for boosting on trees\n",
    "# Notes: in LogLoss it is necessary to pass not the predictions obtained using clf.predict(...), \n",
    "#        but the probability obtained using clf.predict_proba(...)[:, 1]\n",
    "\n",
    "# ADVANCED TASK:\n",
    "# Implement a special predict function for boosting on logistic regression that outputs predictions using the formula\n",
    "# 𝑃𝑟𝑒𝑑𝑖𝑐𝑡𝑖𝑜𝑛𝑠=𝑠𝑖𝑔𝑛(𝑆𝑐𝑜𝑟𝑒_𝑏𝑢𝑠𝑡) \n",
    "#   where Sign is one for positive and zero for negative values. \n",
    "#   and 𝑆𝑐𝑜𝑟𝑒𝑏𝑢𝑠𝑡=∑𝛼(𝑖)𝑆𝑐𝑜𝑟𝑒(𝑖)\n",
    "# The scores given by each model 𝑆𝑐𝑜𝑟𝑒(𝑖) can be found by calling the decision_function method on the model\n"
   ]
  },
  {
   "cell_type": "code",
   "execution_count": 3,
   "id": "ff42386c",
   "metadata": {},
   "outputs": [],
   "source": [
    "# Recommended LogLoss implementation\n",
    "def log_loss(pred, y): return -np.sum(y*np.log2(pred)+(1-y)*np.log2(1-pred))/len(y)\n",
    "\n",
    "# Recommended Tusing the below function to suppress warnings about insufficient convergence\n",
    "import warnings\n",
    "with warnings.catch_warnings():\n",
    "    warnings.simplefilter(\"ignore\")\n",
    "    \n",
    "    # And to train the model HERE"
   ]
  },
  {
   "cell_type": "code",
   "execution_count": null,
   "id": "cb7dc95a",
   "metadata": {},
   "outputs": [],
   "source": [
    "# TBD in 3-4 days"
   ]
  }
 ],
 "metadata": {
  "kernelspec": {
   "display_name": "Python 3",
   "language": "python",
   "name": "python3"
  },
  "language_info": {
   "codemirror_mode": {
    "name": "ipython",
    "version": 3
   },
   "file_extension": ".py",
   "mimetype": "text/x-python",
   "name": "python",
   "nbconvert_exporter": "python",
   "pygments_lexer": "ipython3",
   "version": "3.8.8"
  }
 },
 "nbformat": 4,
 "nbformat_minor": 5
}
